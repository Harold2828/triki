{
 "cells": [
  {
   "cell_type": "markdown",
   "metadata": {},
   "source": [
    "<!DOCTYPE html>\n",
    "<html>\n",
    "<head>\n",
    "    <title>Triki</title>\n",
    "    <meta charset=\"UTF-8\">\n",
    "    <link rel=\"StyleSheet\" href=\"estilos.css\" type=\"text/css\">\n",
    "</head>\n",
    "<body>\n",
    "   <center><h2>Triki</h2></center>\n",
    "   <div class=\"content\">\n",
    "       <h3>¿Qué se está haciendo?</h3>\n",
    "       <div class=\"columna\"\n",
    "            style=\"position:absolute;\n",
    "            width:200px;\n",
    "            margin-top:10px;\n",
    "            text-align: justify;\n",
    "            text-justify: inter-word;\">\n",
    "           <p>Se está haciendo el juego de triki usando programación orientada en objetos, en el <b>primer día</b> se hicieron las clases de <i>Triki</i> y de <i>Player</i>, las cuales estan encargadas de definir el tablero y lo que puede hacer el jugador</p>\n",
    "           <p>En el <b>segundo día</b> se insertó la estructura del juego y se hizo arreglos de algunos problemas presentados, quedando pendiente un error al ejecutar un juego automatico cuando está lleno el tablero </p>\n",
    "           <p>En el <b>tercer día</b> se adicionó la parte de como está configurado el usuario y se agregó un jugador humano</p>\n",
    "         </div>\n",
    "\n",
    "   </div>\n",
    "    <div class=\"columna2\">\n",
    "        <img src='https://todoenartes.co/12807-lightbox_default/juego-triki-de-lujo-.jpg' width=400 large=400 >\n",
    "    </div>\n",
    "</body>\n",
    "</html>"
   ]
  },
  {
   "cell_type": "code",
   "execution_count": 1,
   "metadata": {},
   "outputs": [],
   "source": [
    "import numpy as np\n",
    "from icecream import ic"
   ]
  },
  {
   "cell_type": "code",
   "execution_count": 84,
   "metadata": {},
   "outputs": [],
   "source": [
    "class Triki:\n",
    "    def __init__(self):\n",
    "        self.board=np.zeros([3,3],dtype=str)\n",
    "    def rules(self,x,y,player):\n",
    "        win=False\n",
    "        playBoard=False\n",
    "        pause=False\n",
    "        #No se puede sobre escribir una casilla\n",
    "        if(self.board[x,y]==''):\n",
    "            self.board[x,y]=player\n",
    "            playBoard=True\n",
    "            #En caso que sea valido entonces se verifica si gana\n",
    "            v=np.concatenate(\n",
    "                (np.sum(self.board==player,axis=1)==3,\n",
    "                 np.sum(self.board==player,axis=0)==3,\n",
    "                 np.sum(np.diag(self.board)==player)==3,\n",
    "                 np.sum(np.diag(np.rot90(self.board))==player)==3),\n",
    "                axis=None)\n",
    "            if any(v):\n",
    "                win=True\n",
    "        else:\n",
    "            self.board[x,y]=self.board[x,y]\n",
    "        if all(np.sum(self.board=='',axis=0)==0):\n",
    "            pause=True\n",
    "        return playBoard,win,pause\n",
    "    def show(self):\n",
    "        print(self.board)\n",
    "\n",
    "class Player:\n",
    "    def __init__(self,symbol,name):\n",
    "        self.x=None\n",
    "        self.y=None\n",
    "        self.winParty=0\n",
    "        self.lostParty=0\n",
    "        self.tieParty=0\n",
    "        self.symbol=symbol\n",
    "        self.name=name\n",
    "    def autoPlayer(self):\n",
    "        self.x,self.y=np.random.randint(0,high=3,size=[1,2]).tolist()[0]\n",
    "    def win(self):\n",
    "        self.winParty+=1\n",
    "    def fail(self):\n",
    "        self.lostParty+=1\n",
    "    def tie(self):\n",
    "        self.tieParty+=1\n",
    "    def punctuation(self):\n",
    "        print(f'El jugador {self.name} ha tenido:\\nVictorias: {self.winParty}\\nDerrotas: {self.lostParty}\\nEmpates: {self.tieParty}')\n",
    "    def config(self):\n",
    "        print(f'El nombre del jugador:\\n{self.name}\\nEl simbolo del jugador:\\n{self.symbol}\\n')\n",
    "        self.punctuation()"
   ]
  },
  {
   "cell_type": "code",
   "execution_count": 85,
   "metadata": {},
   "outputs": [
    {
     "name": "stdout",
     "output_type": "stream",
     "text": [
      "El nombre del jugador:\n",
      "Harold\n",
      "El simbolo del jugador:\n",
      "^\n",
      "\n",
      "El jugador Harold ha tenido:\n",
      "Victorias: 0\n",
      "Derrotas: 0\n",
      "Empates: 0\n"
     ]
    }
   ],
   "source": [
    "#Iniciando\n",
    "#Se inicializa el jugador 1\n",
    "player1=Player('x',\"b1\")\n",
    "#Se inicializa el jugador 2\n",
    "player2=Player('o',\"a2\")\n",
    "#Se inicia el jugador humano\n",
    "del player1\n",
    "player1=Player('^',\"Harold\")\n",
    "player1.config()"
   ]
  },
  {
   "cell_type": "code",
   "execution_count": 87,
   "metadata": {},
   "outputs": [
    {
     "name": "stdout",
     "output_type": "stream",
     "text": [
      "Ingresar las coordenadas sepadas por una coma:\n",
      "0,0\n",
      "[['^' '' '']\n",
      " ['' '' '']\n",
      " ['' '' '']]\n",
      "[['^' '' '']\n",
      " ['' 'o' '']\n",
      " ['' '' '']]\n",
      "Ingresar las coordenadas sepadas por una coma:\n",
      "0,1\n",
      "[['^' '^' '']\n",
      " ['' 'o' '']\n",
      " ['' '' '']]\n",
      "[['^' '^' '']\n",
      " ['' 'o' '']\n",
      " ['' '' 'o']]\n",
      "Ingresar las coordenadas sepadas por una coma:\n",
      "0,2\n",
      "[['^' '^' '^']\n",
      " ['' 'o' '']\n",
      " ['' '' 'o']]\n",
      "Ganó player1\n",
      "[['^' '^' '^']\n",
      " ['' 'o' '']\n",
      " ['' '' 'o']]\n",
      "----------------------------------------\n",
      "El jugador Harold ha tenido:\n",
      "Victorias: 2\n",
      "Derrotas: 0\n",
      "Empates: 0\n",
      "----------------------------------------\n",
      "El jugador a2 ha tenido:\n",
      "Victorias: 0\n",
      "Derrotas: 2\n",
      "Empates: 0\n",
      "________________________________________\n"
     ]
    },
    {
     "data": {
      "text/plain": [
       "array([['^', '^', '^'],\n",
       "       ['', 'o', ''],\n",
       "       ['', '', 'o']], dtype='<U1')"
      ]
     },
     "execution_count": 87,
     "metadata": {},
     "output_type": "execute_result"
    }
   ],
   "source": [
    "#Se inicializa triki\n",
    "triki=Triki()\n",
    "#Comienza a jugar\n",
    "while True:\n",
    "    while True:\n",
    "        x,y=input(\"Ingresar las coordenadas sepadas por una coma:\\n\").split(',')\n",
    "        player1.x=int(x)\n",
    "        player1.y=int(y)\n",
    "        #player1.autoPlayer()\n",
    "        play,win,pause=triki.rules(player1.x,player1.y,player1.symbol)\n",
    "        if play or pause:\n",
    "            break\n",
    "    triki.show()\n",
    "    if win:\n",
    "        print(\"Ganó player1\")\n",
    "        player1.win()\n",
    "        player2.fail()\n",
    "        break\n",
    "    elif pause:\n",
    "        player1.tie()\n",
    "        player2.tie()\n",
    "        print(\"Empate\")\n",
    "        break\n",
    "    while True:\n",
    "        player2.autoPlayer()\n",
    "        play,win,pause=triki.rules(player2.x,player2.y,player2.symbol)\n",
    "        if play or pause:\n",
    "            break\n",
    "    triki.show()\n",
    "    if win:\n",
    "        print(\"Ganó player2\")\n",
    "        player2.win()\n",
    "        player1.fail()\n",
    "        break\n",
    "    elif pause:\n",
    "        player1.tie()\n",
    "        player2.tie()\n",
    "        print(\"Empate\")\n",
    "        break\n",
    "triki.show()\n",
    "print('-'*40)\n",
    "player1.punctuation()\n",
    "print('-'*40)\n",
    "player2.punctuation()\n",
    "print(\"_\"*40)\n",
    "triki.board"
   ]
  },
  {
   "cell_type": "code",
   "execution_count": 91,
   "metadata": {},
   "outputs": [
    {
     "name": "stdout",
     "output_type": "stream",
     "text": [
      "El nombre del jugador:\n",
      "Harold\n",
      "El simbolo del jugador:\n",
      "^\n",
      "\n",
      "El jugador Harold ha tenido:\n",
      "Victorias: 2\n",
      "Derrotas: 0\n",
      "Empates: 0\n"
     ]
    }
   ],
   "source": [
    "player1.config()"
   ]
  }
 ],
 "metadata": {
  "kernelspec": {
   "display_name": "Python 3",
   "language": "python",
   "name": "python3"
  },
  "language_info": {
   "codemirror_mode": {
    "name": "ipython",
    "version": 3
   },
   "file_extension": ".py",
   "mimetype": "text/x-python",
   "name": "python",
   "nbconvert_exporter": "python",
   "pygments_lexer": "ipython3",
   "version": "3.8.5"
  }
 },
 "nbformat": 4,
 "nbformat_minor": 4
}
