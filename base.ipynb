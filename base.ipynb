{
 "cells": [
  {
   "cell_type": "markdown",
   "metadata": {},
   "source": [
    "<!DOCTYPE html>\n",
    "<html>\n",
    "<head>\n",
    "    <title>Triki</title>\n",
    "    <meta charset=\"UTF-8\">\n",
    "    <link rel=\"StyleSheet\" href=\"estilos.css\" type=\"text/css\">\n",
    "</head>\n",
    "<body>\n",
    "   <center><h2>Triki</h2></center>\n",
    "   <div class=\"content\">\n",
    "       <h3>¿Qué se está haciendo?</h3>\n",
    "       <div class=\"columna\"\n",
    "            style=\"position:absolute;\n",
    "            width:200px;\n",
    "            margin-top:10px;\n",
    "            text-align: justify;\n",
    "            text-justify: inter-word;\">\n",
    "           <p>Se está haciendo el juego de triki usando programación orientada en objetos, en el <b>primer día</b> se hicieron las clases de <i>Triki</i> y de <i>Player</i>, las cuales estan encargadas de definir el tablero y lo que puede hacer el jugador</p>\n",
    "           <p>En el <b>segundo día</b> se insertó la estructura del juego y se hizo arreglos de algunos problemas presentados, quedando pendiente un error al ejecutar un juego automatico cuando está lleno el tablero </p>\n",
    "         </div>\n",
    "   </div>\n",
    "    <div class=\"columna2\">\n",
    "        <img src='https://todoenartes.co/12807-lightbox_default/juego-triki-de-lujo-.jpg' width=400 large=400 >\n",
    "    </div>\n",
    "</body>\n",
    "</html>"
   ]
  },
  {
   "cell_type": "code",
   "execution_count": 1,
   "metadata": {},
   "outputs": [],
   "source": [
    "import numpy as np\n",
    "from icecream import ic"
   ]
  },
  {
   "cell_type": "code",
   "execution_count": 295,
   "metadata": {},
   "outputs": [],
   "source": [
    "class Triki:\n",
    "    def __init__(self):\n",
    "        self.board=np.zeros([3,3],dtype=str)\n",
    "    def rules(self,x,y,player):\n",
    "        win=False\n",
    "        playBoard=False\n",
    "        pause=False\n",
    "        #No se puede sobre escribir una casilla\n",
    "        if(self.board[x,y]==''):\n",
    "            self.board[x,y]=player\n",
    "            playBoard=True\n",
    "            #En caso que sea valido entonces se verifica si gana\n",
    "            v=np.concatenate(\n",
    "                (np.sum(self.board==player,axis=1)==3,\n",
    "                 np.sum(self.board==player,axis=0)==3,\n",
    "                 np.sum(np.diag(self.board)==player)==3,\n",
    "                 np.sum(np.diag(np.rot90(self.board))==player)==3),\n",
    "                axis=None)\n",
    "            if any(v):\n",
    "                win=True\n",
    "        else:\n",
    "            self.board[x,y]=self.board[x,y]\n",
    "        if all(np.sum(self.board=='',axis=0)==0):\n",
    "            pause=True\n",
    "        return playBoard,win,pause\n",
    "class Player:\n",
    "    def __init__(self,symbol,name):\n",
    "        self.x=None\n",
    "        self.y=None\n",
    "        self.winParty=0\n",
    "        self.lostParty=0\n",
    "        self.tieParty=0\n",
    "        self.symbol=symbol\n",
    "        self.name=name\n",
    "    def autoPlayer(self):\n",
    "        self.x,self.y=np.random.randint(0,high=3,size=[1,2]).tolist()[0]\n",
    "    def win(self):\n",
    "        self.winParty+=1\n",
    "    def fail(self):\n",
    "        self.lostParty+=1\n",
    "    def tie(self):\n",
    "        self.tieParty+=1\n",
    "    def punctuation(self):\n",
    "        print(f'El jugador {self.name} ha tenido:\\nVictorias: {self.winParty}\\nDerrotas: {self.lostParty}\\nEmpates: {self.tieParty}')"
   ]
  },
  {
   "cell_type": "code",
   "execution_count": 301,
   "metadata": {},
   "outputs": [],
   "source": [
    "#Iniciando\n",
    "\n",
    "#Se inicializa triki\n",
    "triki=Triki()\n",
    "#Se inicializa el jugador 1\n",
    "player1=Player('x',\"b1\")\n",
    "#Se inicializa el jugador 2\n",
    "player2=Player('o',\"a2\")"
   ]
  },
  {
   "cell_type": "code",
   "execution_count": 302,
   "metadata": {},
   "outputs": [
    {
     "name": "stdout",
     "output_type": "stream",
     "text": [
      "Ganó player1\n",
      "----------------------------------------\n",
      "El jugador b1 ha tenido:\n",
      "Victorias: 1\n",
      "Derrotas: 0\n",
      "Empates: 0\n",
      "----------------------------------------\n",
      "El jugador a2 ha tenido:\n",
      "Victorias: 0\n",
      "Derrotas: 1\n",
      "Empates: 0\n"
     ]
    }
   ],
   "source": [
    "while True:\n",
    "    while True:\n",
    "        player1.autoPlayer()\n",
    "        play,win,pause=triki.rules(player1.x,player1.y,player1.symbol)\n",
    "        if play:\n",
    "            break\n",
    "    if win:\n",
    "        print(\"Ganó player1\")\n",
    "        player1.win()\n",
    "        player2.fail()\n",
    "        break\n",
    "    elif pause:\n",
    "        player1.tie()\n",
    "        player2.tie()\n",
    "        print(\"Empate\")\n",
    "        break\n",
    "    while True:\n",
    "        player2.autoPlayer()\n",
    "        play,win,pause=triki.rules(player2.x,player2.y,player2.symbol)\n",
    "        if play:\n",
    "            break\n",
    "    if win:\n",
    "        print(\"Ganó player2\")\n",
    "        player2.win()\n",
    "        player1.fail()\n",
    "        break\n",
    "    elif pause:\n",
    "        player1.tie()\n",
    "        player2.tie()\n",
    "        print(\"Empate\")\n",
    "        break\n",
    "triki.board\n",
    "print('-'*40)\n",
    "player1.punctuation()\n",
    "print('-'*40)\n",
    "player2.punctuation()"
   ]
  },
  {
   "cell_type": "code",
   "execution_count": 303,
   "metadata": {},
   "outputs": [
    {
     "data": {
      "text/plain": [
       "array([['x', 'x', 'o'],\n",
       "       ['x', '', 'o'],\n",
       "       ['x', 'o', '']], dtype='<U1')"
      ]
     },
     "execution_count": 303,
     "metadata": {},
     "output_type": "execute_result"
    }
   ],
   "source": [
    "triki.board"
   ]
  }
 ],
 "metadata": {
  "kernelspec": {
   "display_name": "Python 3",
   "language": "python",
   "name": "python3"
  },
  "language_info": {
   "codemirror_mode": {
    "name": "ipython",
    "version": 3
   },
   "file_extension": ".py",
   "mimetype": "text/x-python",
   "name": "python",
   "nbconvert_exporter": "python",
   "pygments_lexer": "ipython3",
   "version": "3.8.5"
  }
 },
 "nbformat": 4,
 "nbformat_minor": 4
}
