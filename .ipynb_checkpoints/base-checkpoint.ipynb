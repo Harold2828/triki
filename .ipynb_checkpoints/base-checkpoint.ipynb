{
 "cells": [
  {
   "cell_type": "markdown",
   "metadata": {},
   "source": [
    "<!DOCTYPE html>\n",
    "<html>\n",
    "<head>\n",
    "    <title>Triki</title>\n",
    "    <meta charset=\"UTF-8\">\n",
    "    <link rel=\"StyleSheet\" href=\"estilos.css\" type=\"text/css\">\n",
    "</head>\n",
    "<body>\n",
    "   <center><h2>Triki</h2></center>\n",
    "   <div class=\"content\">\n",
    "       <h3>¿Qué se está haciendo?</h3>\n",
    "       <div class=\"columna\"\n",
    "            style=\"position:absolute;\n",
    "            width:200px;\n",
    "            margin-top:10px;\n",
    "            text-align: justify;\n",
    "            text-justify: inter-word;\">\n",
    "           <p>Se está haciendo el juego de triki usando programación orientada en objetos, en el <b>primer día</b> se hicieron las clases de <i>Triki</i> y de <i>Player</i>, las cuales estan encargadas de definir el tablero y lo que puede hacer el jugador</p>\n",
    "         </div>\n",
    "   </div>\n",
    "    <div class=\"columna2\">\n",
    "        <img src='https://todoenartes.co/12807-lightbox_default/juego-triki-de-lujo-.jpg' width=400 large=400 >\n",
    "    </div>\n",
    "</body>\n",
    "</html>"
   ]
  },
  {
   "cell_type": "code",
   "execution_count": 1,
   "metadata": {},
   "outputs": [],
   "source": [
    "import numpy as np"
   ]
  },
  {
   "cell_type": "code",
   "execution_count": 2,
   "metadata": {},
   "outputs": [],
   "source": [
    "class Triki:\n",
    "    def __init__(self):\n",
    "        self.board=np.zeros([3,3],dtype=str)\n",
    "        self.player1='x'\n",
    "        self.player2='o'\n",
    "    def rules(self,x,y,player):\n",
    "        win=False\n",
    "        playBoard=False\n",
    "        #No se puede sobre escribir una casilla\n",
    "        if(self.board[x,y]==''):\n",
    "            self.board[x,y]=player\n",
    "            playBoard=True\n",
    "            #En caso que sea valido entonces se verifica si gana\n",
    "            if np.sum(triki.board==player,axis=1)==3 or np.sum(triki.board==player,axis=0)==3 or np.sum(np.diag(triki.board)==player)==3:\n",
    "                win=True\n",
    "        else:\n",
    "            self.board[x,y]=self.board[x,y]\n",
    "            print(\"ERROR\")\n",
    "        return playBoard,win\n",
    "class Player:\n",
    "    def __init__(self):\n",
    "        self.x=None\n",
    "        self.y=None\n",
    "        self.winParty=0\n",
    "        self.lostParty=0\n",
    "    def _autoPlayer(self):\n",
    "        self.x,self.y=np.random.randint(0,high=3,size=[1,2]).tolist()[0]\n",
    "    def win(self):\n",
    "        self.winParty+=1\n",
    "    def fail(self):\n",
    "        self.lostParty+=1"
   ]
  },
  {
   "cell_type": "code",
   "execution_count": 3,
   "metadata": {},
   "outputs": [],
   "source": [
    "triki=Triki()\n",
    "#Tablero de pruebas\n",
    "triki.board[0,0]='o'\n",
    "triki.board[0,1]='o'\n",
    "triki.board[0,2]='x'\n",
    "triki.board[1,0]='x'\n",
    "triki.board[1,1]='o'\n",
    "triki.board[1,2]='o'\n",
    "triki.board[0,0]='x'\n",
    "triki.board[1,1]='o'\n",
    "triki.board[2,2]='o'\n",
    "triki.board[2,0]='o'\n",
    "triki.board[2,1]='x'"
   ]
  }
 ],
 "metadata": {
  "kernelspec": {
   "display_name": "Python 3",
   "language": "python",
   "name": "python3"
  },
  "language_info": {
   "codemirror_mode": {
    "name": "ipython",
    "version": 3
   },
   "file_extension": ".py",
   "mimetype": "text/x-python",
   "name": "python",
   "nbconvert_exporter": "python",
   "pygments_lexer": "ipython3",
   "version": "3.8.5"
  }
 },
 "nbformat": 4,
 "nbformat_minor": 4
}
